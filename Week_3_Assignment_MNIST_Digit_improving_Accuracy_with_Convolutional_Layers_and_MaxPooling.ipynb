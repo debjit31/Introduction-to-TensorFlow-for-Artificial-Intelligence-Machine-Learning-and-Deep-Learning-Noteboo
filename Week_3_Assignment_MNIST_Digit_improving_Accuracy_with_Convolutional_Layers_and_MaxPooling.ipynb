{
  "nbformat": 4,
  "nbformat_minor": 0,
  "metadata": {
    "colab": {
      "name": "Week 3 Assignment MNIST Digit improving Accuracy with Convolutional Layers and MaxPooling.ipynb",
      "provenance": [],
      "authorship_tag": "ABX9TyMzx5bqSLnibBTj6YufbTrj",
      "include_colab_link": true
    },
    "kernelspec": {
      "name": "python3",
      "display_name": "Python 3"
    },
    "accelerator": "GPU"
  },
  "cells": [
    {
      "cell_type": "markdown",
      "metadata": {
        "id": "view-in-github",
        "colab_type": "text"
      },
      "source": [
        "<a href=\"https://colab.research.google.com/github/debjit31/Introduction-to-TensorFlow-for-Artificial-Intelligence-Machine-Learning-and-Deep-Learning-Noteboo/blob/master/Week_3_Assignment_MNIST_Digit_improving_Accuracy_with_Convolutional_Layers_and_MaxPooling.ipynb\" target=\"_parent\"><img src=\"https://colab.research.google.com/assets/colab-badge.svg\" alt=\"Open In Colab\"/></a>"
      ]
    },
    {
      "cell_type": "code",
      "metadata": {
        "id": "JPsj-endbDUW",
        "colab_type": "code",
        "colab": {
          "base_uri": "https://localhost:8080/",
          "height": 34
        },
        "outputId": "cb8e8553-52a1-4f91-ab66-bdc40a53f1a9"
      },
      "source": [
        "import tensorflow as tf\n",
        "print(tf.__version__)"
      ],
      "execution_count": 1,
      "outputs": [
        {
          "output_type": "stream",
          "text": [
            "2.3.0\n"
          ],
          "name": "stdout"
        }
      ]
    },
    {
      "cell_type": "code",
      "metadata": {
        "id": "oSvG4-0lRHnt",
        "colab_type": "code",
        "colab": {}
      },
      "source": [
        "class MyCallBack(tf.keras.callbacks.Callback):\n",
        "  def on_epoch_end(self, epoch, logs={}):\n",
        "    if logs.get('accuracy') >= 0.99:\n",
        "      print(\"\\nReached Target Training accuracy. Cancelling Training!!! \\n\")\n",
        "      self.model.stop_training = True\n",
        "\n",
        "\n",
        "def train_mnist():\n",
        "\n",
        "  cb = MyCallBack()\n",
        "\n",
        "  mnist = tf.keras.datasets.mnist\n",
        "  (training_images, training_labels), (test_images, test_labels) = mnist.load_data()\n",
        "\n",
        "  ## process train and test images for a 4D tensor to feed to the convolution\n",
        "  training_images = training_images.reshape(60000, 28, 28, 1)\n",
        "  training_images = training_images / 255.0\n",
        "  test_images = test_images.reshape(10000, 28, 28, 1)\n",
        "  test_images = test_images / 255.0\n",
        "\n",
        "  model = tf.keras.models.Sequential([\n",
        "                                      \n",
        "      tf.keras.layers.Conv2D(64, (3,3), activation='relu', input_shape=(28, 28, 1)),\n",
        "      tf.keras.layers.MaxPooling2D(2,2),\n",
        "\n",
        "      tf.keras.layers.Conv2D(64, (3,3), activation = 'relu'),\n",
        "      tf.keras.layers.MaxPooling2D(2,2),\n",
        "\n",
        "      tf.keras.layers.Flatten(), \n",
        "      tf.keras.layers.Dense(512, activation='relu'),\n",
        "      tf.keras.layers.Dense(10, activation='softmax')\n",
        "  ])\n",
        "\n",
        "  model.compile(optimizer='adam', loss = 'sparse_categorical_crossentropy', metrics=['accuracy'])\n",
        "\n",
        "  model.summary()\n",
        "\n",
        "  model.fit(training_images, training_labels, epochs = 20, callbacks = [cb])\n",
        "\n",
        "  loss, acc = model.evaluate(test_images, test_labels)\n",
        "\n",
        "  print(acc)\n"
      ],
      "execution_count": 2,
      "outputs": []
    },
    {
      "cell_type": "code",
      "metadata": {
        "id": "0K94Xa71TjLf",
        "colab_type": "code",
        "colab": {
          "base_uri": "https://localhost:8080/",
          "height": 625
        },
        "outputId": "95d57b61-543c-4226-d63d-78b2c38b094f"
      },
      "source": [
        "train_mnist()"
      ],
      "execution_count": 3,
      "outputs": [
        {
          "output_type": "stream",
          "text": [
            "Downloading data from https://storage.googleapis.com/tensorflow/tf-keras-datasets/mnist.npz\n",
            "11493376/11490434 [==============================] - 0s 0us/step\n",
            "Model: \"sequential\"\n",
            "_________________________________________________________________\n",
            "Layer (type)                 Output Shape              Param #   \n",
            "=================================================================\n",
            "conv2d (Conv2D)              (None, 26, 26, 64)        640       \n",
            "_________________________________________________________________\n",
            "max_pooling2d (MaxPooling2D) (None, 13, 13, 64)        0         \n",
            "_________________________________________________________________\n",
            "conv2d_1 (Conv2D)            (None, 11, 11, 64)        36928     \n",
            "_________________________________________________________________\n",
            "max_pooling2d_1 (MaxPooling2 (None, 5, 5, 64)          0         \n",
            "_________________________________________________________________\n",
            "flatten (Flatten)            (None, 1600)              0         \n",
            "_________________________________________________________________\n",
            "dense (Dense)                (None, 512)               819712    \n",
            "_________________________________________________________________\n",
            "dense_1 (Dense)              (None, 10)                5130      \n",
            "=================================================================\n",
            "Total params: 862,410\n",
            "Trainable params: 862,410\n",
            "Non-trainable params: 0\n",
            "_________________________________________________________________\n",
            "Epoch 1/20\n",
            "1875/1875 [==============================] - 11s 6ms/step - loss: 0.1078 - accuracy: 0.9661\n",
            "Epoch 2/20\n",
            "1875/1875 [==============================] - 10s 5ms/step - loss: 0.0366 - accuracy: 0.9884\n",
            "Epoch 3/20\n",
            "1869/1875 [============================>.] - ETA: 0s - loss: 0.0250 - accuracy: 0.9922\n",
            "Reached Target Training accuracy. Cancelling Training!!! \n",
            "\n",
            "1875/1875 [==============================] - 10s 5ms/step - loss: 0.0249 - accuracy: 0.9922\n",
            "313/313 [==============================] - 1s 3ms/step - loss: 0.0297 - accuracy: 0.9900\n",
            "0.9900000095367432\n"
          ],
          "name": "stdout"
        }
      ]
    }
  ]
}