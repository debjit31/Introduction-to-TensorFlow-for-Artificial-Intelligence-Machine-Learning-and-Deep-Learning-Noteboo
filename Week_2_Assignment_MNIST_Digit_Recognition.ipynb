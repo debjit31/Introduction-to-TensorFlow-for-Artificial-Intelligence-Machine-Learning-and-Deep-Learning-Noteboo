{
  "nbformat": 4,
  "nbformat_minor": 0,
  "metadata": {
    "colab": {
      "name": "Week 2 Assignment MNIST Digit Recognition.ipynb",
      "provenance": [],
      "authorship_tag": "ABX9TyPFArFFJTyNMCZlilO14mDX",
      "include_colab_link": true
    },
    "kernelspec": {
      "name": "python3",
      "display_name": "Python 3"
    }
  },
  "cells": [
    {
      "cell_type": "markdown",
      "metadata": {
        "id": "view-in-github",
        "colab_type": "text"
      },
      "source": [
        "<a href=\"https://colab.research.google.com/github/debjit31/Introduction-to-TensorFlow-for-Artificial-Intelligence-Machine-Learning-and-Deep-Learning-Noteboo/blob/master/Week_2_Assignment_MNIST_Digit_Recognition.ipynb\" target=\"_parent\"><img src=\"https://colab.research.google.com/assets/colab-badge.svg\" alt=\"Open In Colab\"/></a>"
      ]
    },
    {
      "cell_type": "code",
      "metadata": {
        "id": "WUXCywAdPw_R",
        "colab_type": "code",
        "colab": {
          "base_uri": "https://localhost:8080/",
          "height": 34
        },
        "outputId": "1ceed496-8ec4-4669-c98b-ba2bf32476aa"
      },
      "source": [
        "import tensorflow as tf\n",
        "print(tf.__version__)"
      ],
      "execution_count": 4,
      "outputs": [
        {
          "output_type": "stream",
          "text": [
            "2.3.0\n"
          ],
          "name": "stdout"
        }
      ]
    },
    {
      "cell_type": "code",
      "metadata": {
        "id": "5km9GChlRAP8",
        "colab_type": "code",
        "colab": {}
      },
      "source": [
        "class MyCallback(tf.keras.callbacks.Callback):\n",
        "  def on_epoch_end(self, epoch, logs={}):\n",
        "    if logs.get('accuracy') >= 0.99:\n",
        "      print(\"\\nReached 99% accuracy so cancelling training!\\n\")\n",
        "      self.model.stop_training = True\n",
        "      \n",
        "def train_mnist():\n",
        "\n",
        "  callback =  MyCallback()\n",
        "  mnist = tf.keras.datasets.mnist\n",
        "  ## X_train and X_test are the train and test images\n",
        "  ## y_train, y_test are the labels\n",
        "  (X_train, y_train), (X_test, y_test) = mnist.load_data()\n",
        "\n",
        "  ## Normalize the images\n",
        "  X_train, X_test = X_train / 255.0, X_test / 255.0\n",
        "\n",
        "  ## Declare the model\n",
        "  model = tf.keras.models.Sequential()\n",
        "  model.add(tf.keras.layers.Flatten(input_shape=(28,28)))\n",
        "  model.add(tf.keras.layers.Dense(1024, activation=tf.nn.relu))\n",
        "  model.add(tf.keras.layers.Dense(10, activation=tf.nn.softmax))\n",
        "\n",
        "  model.compile(optimizer=tf.optimizers.Adam(),\n",
        "                loss = 'sparse_categorical_crossentropy', \n",
        "                metrics = ['accuracy'])\n",
        "  model.fit(X_train, y_train, epochs=10, callbacks = [callback])\n",
        "\n",
        "\n"
      ],
      "execution_count": 7,
      "outputs": []
    },
    {
      "cell_type": "code",
      "metadata": {
        "id": "KIs95UaVTzbO",
        "colab_type": "code",
        "colab": {
          "base_uri": "https://localhost:8080/",
          "height": 255
        },
        "outputId": "6d6cc24d-8389-4c3a-ca6d-2a5e0279dda8"
      },
      "source": [
        "train_mnist()"
      ],
      "execution_count": 8,
      "outputs": [
        {
          "output_type": "stream",
          "text": [
            "Epoch 1/10\n",
            "1875/1875 [==============================] - 11s 6ms/step - loss: 0.1842 - accuracy: 0.9445\n",
            "Epoch 2/10\n",
            "1875/1875 [==============================] - 12s 6ms/step - loss: 0.0751 - accuracy: 0.9770\n",
            "Epoch 3/10\n",
            "1875/1875 [==============================] - 12s 6ms/step - loss: 0.0495 - accuracy: 0.9845\n",
            "Epoch 4/10\n",
            "1875/1875 [==============================] - 12s 6ms/step - loss: 0.0335 - accuracy: 0.9893\n",
            "Epoch 5/10\n",
            "1870/1875 [============================>.] - ETA: 0s - loss: 0.0271 - accuracy: 0.9912\n",
            "Reached 99% accuracy so cancelling training!\n",
            "\n",
            "1875/1875 [==============================] - 12s 6ms/step - loss: 0.0271 - accuracy: 0.9912\n"
          ],
          "name": "stdout"
        }
      ]
    }
  ]
}